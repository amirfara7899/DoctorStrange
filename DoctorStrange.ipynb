{
 "cells": [
  {
   "cell_type": "code",
   "execution_count": 3,
   "id": "0678b00c",
   "metadata": {},
   "outputs": [],
   "source": [
    "import pandas as pd"
   ]
  },
  {
   "cell_type": "code",
   "execution_count": 70,
   "id": "0edf33d6",
   "metadata": {},
   "outputs": [
    {
     "name": "stdout",
     "output_type": "stream",
     "text": [
      "4.0\n"
     ]
    },
    {
     "data": {
      "text/html": [
       "<div>\n",
       "<style scoped>\n",
       "    .dataframe tbody tr th:only-of-type {\n",
       "        vertical-align: middle;\n",
       "    }\n",
       "\n",
       "    .dataframe tbody tr th {\n",
       "        vertical-align: top;\n",
       "    }\n",
       "\n",
       "    .dataframe thead th {\n",
       "        text-align: right;\n",
       "    }\n",
       "</style>\n",
       "<table border=\"1\" class=\"dataframe\">\n",
       "  <thead>\n",
       "    <tr style=\"text-align: right;\">\n",
       "      <th></th>\n",
       "      <th>0</th>\n",
       "      <th>1</th>\n",
       "      <th>2</th>\n",
       "      <th>3</th>\n",
       "      <th>4</th>\n",
       "      <th>5</th>\n",
       "      <th>6</th>\n",
       "    </tr>\n",
       "  </thead>\n",
       "  <tbody>\n",
       "    <tr>\n",
       "      <th>0</th>\n",
       "      <td>4 4\\n</td>\n",
       "      <td>2 1\\n</td>\n",
       "      <td>0 2\\n</td>\n",
       "      <td>2 0\\n</td>\n",
       "      <td>0 1\\n</td>\n",
       "      <td>1\\n</td>\n",
       "      <td>1 2</td>\n",
       "    </tr>\n",
       "  </tbody>\n",
       "</table>\n",
       "</div>"
      ],
      "text/plain": [
       "       0      1      2      3      4    5    6\n",
       "0  4 4\\n  2 1\\n  0 2\\n  2 0\\n  0 1\\n  1\\n  1 2"
      ]
     },
     "execution_count": 70,
     "metadata": {},
     "output_type": "execute_result"
    }
   ],
   "source": [
    "data = []\n",
    "file = open(\"test1.in\", \"r\")\n",
    "lines = file.readlines()"
   ]
  },
  {
   "cell_type": "code",
   "execution_count": 38,
   "id": "58c942c0",
   "metadata": {},
   "outputs": [],
   "source": [
    "nRow = int(lines[0][0])\n",
    "ncol = int(lines[0][2])"
   ]
  },
  {
   "cell_type": "code",
   "execution_count": 74,
   "id": "eb16fb86",
   "metadata": {},
   "outputs": [],
   "source": [
    "nMix = int(lines[1][0])\n",
    "nMed = int(lines[1][2])"
   ]
  },
  {
   "cell_type": "code",
   "execution_count": 88,
   "id": "689f0fe2",
   "metadata": {},
   "outputs": [
    {
     "data": {
      "text/plain": [
       "[(1, 2)]"
      ]
     },
     "execution_count": 88,
     "metadata": {},
     "output_type": "execute_result"
    }
   ],
   "source": [
    "mixes = []\n",
    "medicines = []\n",
    "blockes = []\n",
    "\n",
    "index = 2\n",
    "counter = 0\n",
    "while counter < nMix:\n",
    "    mixes.append((int(lines[index][0]), int(lines[index][2])))\n",
    "    index += 1\n",
    "    counter += 1\n",
    "\n",
    "counter = 0    \n",
    "while counter < nMed:\n",
    "    medicines.append((int(lines[index][0]), int(lines[index][2])))\n",
    "    index += 1\n",
    "    counter += 1\n",
    "\n",
    "nBlock = int(lines[index][0])\n",
    "index += 1\n",
    "counter = 0\n",
    "while counter < nBlock:\n",
    "    blockes.append((int(lines[index][0]), int(lines[index][2])))\n",
    "    index += 1\n",
    "    counter += 1\n",
    "blockes"
   ]
  }
 ],
 "metadata": {
  "kernelspec": {
   "display_name": "Python 3",
   "language": "python",
   "name": "python3"
  },
  "language_info": {
   "codemirror_mode": {
    "name": "ipython",
    "version": 3
   },
   "file_extension": ".py",
   "mimetype": "text/x-python",
   "name": "python",
   "nbconvert_exporter": "python",
   "pygments_lexer": "ipython3",
   "version": "3.8.8"
  }
 },
 "nbformat": 4,
 "nbformat_minor": 5
}
