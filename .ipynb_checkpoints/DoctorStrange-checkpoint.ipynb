{
 "cells": [
  {
   "cell_type": "code",
   "execution_count": 1,
   "id": "0678b00c",
   "metadata": {},
   "outputs": [],
   "source": [
    "import pandas as pd"
   ]
  },
  {
   "cell_type": "code",
   "execution_count": 2,
   "id": "797ba7f2",
   "metadata": {},
   "outputs": [],
   "source": [
    "data = []\n",
    "file = open(\"test1.in\", \"r\")\n",
    "lines = file.readlines()"
   ]
  },
  {
   "cell_type": "code",
   "execution_count": 3,
   "id": "29354ca1",
   "metadata": {},
   "outputs": [],
   "source": [
    "nRow = int(lines[0][0])\n",
    "ncol = int(lines[0][2])"
   ]
  },
  {
   "cell_type": "code",
   "execution_count": 4,
   "id": "97075b42",
   "metadata": {},
   "outputs": [],
   "source": [
    "nMix = int(lines[1][0])\n",
    "nMed = int(lines[1][2])"
   ]
  },
  {
   "cell_type": "code",
   "execution_count": 16,
   "id": "e2a52f1e",
   "metadata": {},
   "outputs": [
    {
     "name": "stdout",
     "output_type": "stream",
     "text": [
      " mixes: [(0, 2), (2, 0)] \n",
      " medicines: [(0, 1)] \n",
      " blockes: [(1, 2)]\n"
     ]
    }
   ],
   "source": [
    "mixes = []\n",
    "medicines = []\n",
    "blockes = []\n",
    "\n",
    "index = 2\n",
    "counter = 0\n",
    "while counter < nMix:#fill list of mixtures\n",
    "    mixes.append((int(lines[index][0]), int(lines[index][2])))\n",
    "    index += 1\n",
    "    counter += 1\n",
    "\n",
    "counter = 0    \n",
    "while counter < nMed:#fill list of medicines\n",
    "    medicines.append((int(lines[index][0]), int(lines[index][2])))\n",
    "    index += 1\n",
    "    counter += 1\n",
    "\n",
    "nBlock = int(lines[index][0])\n",
    "index += 1\n",
    "counter = 0\n",
    "while counter < nBlock:#fill list of blockes\n",
    "    blockes.append((int(lines[index][0]), int(lines[index][2])))\n",
    "    index += 1\n",
    "    counter += 1\n",
    "print(' mixes:',mixes,'\\n medicines:',medicines,'\\n blockes:',blockes)"
   ]
  }
 ],
 "metadata": {
  "kernelspec": {
   "display_name": "Python 3",
   "language": "python",
   "name": "python3"
  },
  "language_info": {
   "codemirror_mode": {
    "name": "ipython",
    "version": 3
   },
   "file_extension": ".py",
   "mimetype": "text/x-python",
   "name": "python",
   "nbconvert_exporter": "python",
   "pygments_lexer": "ipython3",
   "version": "3.8.8"
  }
 },
 "nbformat": 4,
 "nbformat_minor": 5
}
